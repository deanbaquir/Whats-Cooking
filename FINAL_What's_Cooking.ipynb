{
 "cells": [
  {
   "cell_type": "markdown",
   "id": "95364074",
   "metadata": {},
   "source": [
    "CS 4661 - 02\n",
    "Introduction to Data Science\n",
    "\n",
    "<h1>What's Cooking</h1>\n",
    "Using recipe ingredients to categorize the cuisine\n",
    "\n",
    "<hr>\n",
    "\n",
    "Yara Ajjawi, Dean Baquir, Martha Caldera, Jennelle Maximo, Erica Santos\n",
    "\n",
    "<hr>"
   ]
  },
  {
   "cell_type": "markdown",
   "id": "8fef32c5",
   "metadata": {},
   "source": [
    "<h1> Importing Libraries </h1>"
   ]
  },
  {
   "cell_type": "code",
   "execution_count": 60,
   "id": "8e53cd98",
   "metadata": {},
   "outputs": [],
   "source": [
    "# import needed libraries\n",
    "import pandas as pd\n",
    "import numpy as np\n",
    "import seaborn as sns\n",
    "import matplotlib.pyplot as plt\n",
    "from collections import Counter\n",
    "import json\n",
    "from sklearn.feature_extraction.text import CountVectorizer\n",
    "from sklearn.ensemble import RandomForestClassifier\n",
    "from sklearn.model_selection import train_test_split"
   ]
  },
  {
   "cell_type": "markdown",
   "id": "31d4e927",
   "metadata": {},
   "source": [
    "<h1>Dataset Overview </h1>"
   ]
  },
  {
   "cell_type": "markdown",
   "id": "5c8a8ec3",
   "metadata": {},
   "source": [
    "<h3>Training data</h3>"
   ]
  },
  {
   "cell_type": "code",
   "execution_count": 61,
   "id": "dbc53291",
   "metadata": {},
   "outputs": [
    {
     "data": {
      "text/html": [
       "<div>\n",
       "<style scoped>\n",
       "    .dataframe tbody tr th:only-of-type {\n",
       "        vertical-align: middle;\n",
       "    }\n",
       "\n",
       "    .dataframe tbody tr th {\n",
       "        vertical-align: top;\n",
       "    }\n",
       "\n",
       "    .dataframe thead th {\n",
       "        text-align: right;\n",
       "    }\n",
       "</style>\n",
       "<table border=\"1\" class=\"dataframe\">\n",
       "  <thead>\n",
       "    <tr style=\"text-align: right;\">\n",
       "      <th></th>\n",
       "      <th>id</th>\n",
       "      <th>cuisine</th>\n",
       "      <th>ingredients</th>\n",
       "    </tr>\n",
       "  </thead>\n",
       "  <tbody>\n",
       "    <tr>\n",
       "      <th>0</th>\n",
       "      <td>10259</td>\n",
       "      <td>greek</td>\n",
       "      <td>[romaine lettuce, black olives, grape tomatoes...</td>\n",
       "    </tr>\n",
       "    <tr>\n",
       "      <th>1</th>\n",
       "      <td>25693</td>\n",
       "      <td>southern_us</td>\n",
       "      <td>[plain flour, ground pepper, salt, tomatoes, g...</td>\n",
       "    </tr>\n",
       "    <tr>\n",
       "      <th>2</th>\n",
       "      <td>20130</td>\n",
       "      <td>filipino</td>\n",
       "      <td>[eggs, pepper, salt, mayonaise, cooking oil, g...</td>\n",
       "    </tr>\n",
       "    <tr>\n",
       "      <th>3</th>\n",
       "      <td>22213</td>\n",
       "      <td>indian</td>\n",
       "      <td>[water, vegetable oil, wheat, salt]</td>\n",
       "    </tr>\n",
       "    <tr>\n",
       "      <th>4</th>\n",
       "      <td>13162</td>\n",
       "      <td>indian</td>\n",
       "      <td>[black pepper, shallots, cornflour, cayenne pe...</td>\n",
       "    </tr>\n",
       "    <tr>\n",
       "      <th>...</th>\n",
       "      <td>...</td>\n",
       "      <td>...</td>\n",
       "      <td>...</td>\n",
       "    </tr>\n",
       "    <tr>\n",
       "      <th>39769</th>\n",
       "      <td>29109</td>\n",
       "      <td>irish</td>\n",
       "      <td>[light brown sugar, granulated sugar, butter, ...</td>\n",
       "    </tr>\n",
       "    <tr>\n",
       "      <th>39770</th>\n",
       "      <td>11462</td>\n",
       "      <td>italian</td>\n",
       "      <td>[KRAFT Zesty Italian Dressing, purple onion, b...</td>\n",
       "    </tr>\n",
       "    <tr>\n",
       "      <th>39771</th>\n",
       "      <td>2238</td>\n",
       "      <td>irish</td>\n",
       "      <td>[eggs, citrus fruit, raisins, sourdough starte...</td>\n",
       "    </tr>\n",
       "    <tr>\n",
       "      <th>39772</th>\n",
       "      <td>41882</td>\n",
       "      <td>chinese</td>\n",
       "      <td>[boneless chicken skinless thigh, minced garli...</td>\n",
       "    </tr>\n",
       "    <tr>\n",
       "      <th>39773</th>\n",
       "      <td>2362</td>\n",
       "      <td>mexican</td>\n",
       "      <td>[green chile, jalapeno chilies, onions, ground...</td>\n",
       "    </tr>\n",
       "  </tbody>\n",
       "</table>\n",
       "<p>39774 rows × 3 columns</p>\n",
       "</div>"
      ],
      "text/plain": [
       "          id      cuisine                                        ingredients\n",
       "0      10259        greek  [romaine lettuce, black olives, grape tomatoes...\n",
       "1      25693  southern_us  [plain flour, ground pepper, salt, tomatoes, g...\n",
       "2      20130     filipino  [eggs, pepper, salt, mayonaise, cooking oil, g...\n",
       "3      22213       indian                [water, vegetable oil, wheat, salt]\n",
       "4      13162       indian  [black pepper, shallots, cornflour, cayenne pe...\n",
       "...      ...          ...                                                ...\n",
       "39769  29109        irish  [light brown sugar, granulated sugar, butter, ...\n",
       "39770  11462      italian  [KRAFT Zesty Italian Dressing, purple onion, b...\n",
       "39771   2238        irish  [eggs, citrus fruit, raisins, sourdough starte...\n",
       "39772  41882      chinese  [boneless chicken skinless thigh, minced garli...\n",
       "39773   2362      mexican  [green chile, jalapeno chilies, onions, ground...\n",
       "\n",
       "[39774 rows x 3 columns]"
      ]
     },
     "execution_count": 61,
     "metadata": {},
     "output_type": "execute_result"
    }
   ],
   "source": [
    "df_train = pd.read_json('../Whats-Cooking-main/train.json')\n",
    "df_train"
   ]
  },
  {
   "cell_type": "markdown",
   "id": "a6df7c0d",
   "metadata": {},
   "source": [
    "<h3>Testing data</h3>"
   ]
  },
  {
   "cell_type": "code",
   "execution_count": 62,
   "id": "76e21ea1",
   "metadata": {},
   "outputs": [
    {
     "data": {
      "text/html": [
       "<div>\n",
       "<style scoped>\n",
       "    .dataframe tbody tr th:only-of-type {\n",
       "        vertical-align: middle;\n",
       "    }\n",
       "\n",
       "    .dataframe tbody tr th {\n",
       "        vertical-align: top;\n",
       "    }\n",
       "\n",
       "    .dataframe thead th {\n",
       "        text-align: right;\n",
       "    }\n",
       "</style>\n",
       "<table border=\"1\" class=\"dataframe\">\n",
       "  <thead>\n",
       "    <tr style=\"text-align: right;\">\n",
       "      <th></th>\n",
       "      <th>id</th>\n",
       "      <th>ingredients</th>\n",
       "    </tr>\n",
       "  </thead>\n",
       "  <tbody>\n",
       "    <tr>\n",
       "      <th>0</th>\n",
       "      <td>18009</td>\n",
       "      <td>[baking powder, eggs, all-purpose flour, raisi...</td>\n",
       "    </tr>\n",
       "    <tr>\n",
       "      <th>1</th>\n",
       "      <td>28583</td>\n",
       "      <td>[sugar, egg yolks, corn starch, cream of tarta...</td>\n",
       "    </tr>\n",
       "    <tr>\n",
       "      <th>2</th>\n",
       "      <td>41580</td>\n",
       "      <td>[sausage links, fennel bulb, fronds, olive oil...</td>\n",
       "    </tr>\n",
       "    <tr>\n",
       "      <th>3</th>\n",
       "      <td>29752</td>\n",
       "      <td>[meat cuts, file powder, smoked sausage, okra,...</td>\n",
       "    </tr>\n",
       "    <tr>\n",
       "      <th>4</th>\n",
       "      <td>35687</td>\n",
       "      <td>[ground black pepper, salt, sausage casings, l...</td>\n",
       "    </tr>\n",
       "    <tr>\n",
       "      <th>...</th>\n",
       "      <td>...</td>\n",
       "      <td>...</td>\n",
       "    </tr>\n",
       "    <tr>\n",
       "      <th>9939</th>\n",
       "      <td>30246</td>\n",
       "      <td>[large egg yolks, fresh lemon juice, sugar, bo...</td>\n",
       "    </tr>\n",
       "    <tr>\n",
       "      <th>9940</th>\n",
       "      <td>36028</td>\n",
       "      <td>[hot sauce, butter, sweet potatoes, adobo sauc...</td>\n",
       "    </tr>\n",
       "    <tr>\n",
       "      <th>9941</th>\n",
       "      <td>22339</td>\n",
       "      <td>[black pepper, salt, parmigiano reggiano chees...</td>\n",
       "    </tr>\n",
       "    <tr>\n",
       "      <th>9942</th>\n",
       "      <td>42525</td>\n",
       "      <td>[cheddar cheese, cayenne, paprika, plum tomato...</td>\n",
       "    </tr>\n",
       "    <tr>\n",
       "      <th>9943</th>\n",
       "      <td>1443</td>\n",
       "      <td>[cold water, olive oil, lime wedges, garlic cl...</td>\n",
       "    </tr>\n",
       "  </tbody>\n",
       "</table>\n",
       "<p>9944 rows × 2 columns</p>\n",
       "</div>"
      ],
      "text/plain": [
       "         id                                        ingredients\n",
       "0     18009  [baking powder, eggs, all-purpose flour, raisi...\n",
       "1     28583  [sugar, egg yolks, corn starch, cream of tarta...\n",
       "2     41580  [sausage links, fennel bulb, fronds, olive oil...\n",
       "3     29752  [meat cuts, file powder, smoked sausage, okra,...\n",
       "4     35687  [ground black pepper, salt, sausage casings, l...\n",
       "...     ...                                                ...\n",
       "9939  30246  [large egg yolks, fresh lemon juice, sugar, bo...\n",
       "9940  36028  [hot sauce, butter, sweet potatoes, adobo sauc...\n",
       "9941  22339  [black pepper, salt, parmigiano reggiano chees...\n",
       "9942  42525  [cheddar cheese, cayenne, paprika, plum tomato...\n",
       "9943   1443  [cold water, olive oil, lime wedges, garlic cl...\n",
       "\n",
       "[9944 rows x 2 columns]"
      ]
     },
     "execution_count": 62,
     "metadata": {},
     "output_type": "execute_result"
    }
   ],
   "source": [
    "df_test = pd.read_json('../Whats-Cooking-main/test.json')\n",
    "df_test"
   ]
  },
  {
   "cell_type": "code",
   "execution_count": 63,
   "id": "a9638ff4",
   "metadata": {},
   "outputs": [
    {
     "name": "stdout",
     "output_type": "stream",
     "text": [
      "Size of training data: (39774, 3)\n",
      "Size of testing data: (9944, 2)\n"
     ]
    }
   ],
   "source": [
    "print(\"Size of training data:\", df_train.shape)\n",
    "print(\"Size of testing data:\", df_test.shape)"
   ]
  },
  {
   "cell_type": "markdown",
   "id": "4662a050",
   "metadata": {},
   "source": [
    "<h1>Features and Label </h1>"
   ]
  },
  {
   "cell_type": "code",
   "execution_count": 64,
   "id": "97f113f9",
   "metadata": {},
   "outputs": [
    {
     "name": "stdout",
     "output_type": "stream",
     "text": [
      "                                         ingredients\n",
      "0  [romaine lettuce, black olives, grape tomatoes...\n",
      "1  [plain flour, ground pepper, salt, tomatoes, g...\n",
      "2  [eggs, pepper, salt, mayonaise, cooking oil, g...\n",
      "3                [water, vegetable oil, wheat, salt]\n",
      "4  [black pepper, shallots, cornflour, cayenne pe...\n",
      "--------\n",
      "0          greek\n",
      "1    southern_us\n",
      "2       filipino\n",
      "3         indian\n",
      "4         indian\n",
      "Name: cuisine, dtype: object\n"
     ]
    }
   ],
   "source": [
    "# choose columns that are features\n",
    "features = ['ingredients']\n",
    "\n",
    "# dataset of features, X\n",
    "X = df_train[features] \n",
    "\n",
    "# dataset of labels, y\n",
    "y = df_train['cuisine']\n",
    "\n",
    "# print the first 5 rows of each set\n",
    "print(X.head())\n",
    "print(\"--------\")\n",
    "print(y.head())"
   ]
  },
  {
   "cell_type": "markdown",
   "id": "b24b6561",
   "metadata": {},
   "source": [
    "<h1>Training the model</h1>"
   ]
  },
  {
   "cell_type": "code",
   "execution_count": 65,
   "id": "4291103e",
   "metadata": {},
   "outputs": [
    {
     "data": {
      "text/plain": [
       "((33807, 1), (5967, 1))"
      ]
     },
     "execution_count": 65,
     "metadata": {},
     "output_type": "execute_result"
    }
   ],
   "source": [
    "X_train, X_val, y_train, y_val = train_test_split(X, y, train_size=0.85)\n",
    "X_train.shape, X_val.shape"
   ]
  },
  {
   "cell_type": "markdown",
   "id": "fbd532b8",
   "metadata": {},
   "source": [
    "<h1>Exploring the data</h1>"
   ]
  },
  {
   "cell_type": "markdown",
   "id": "000168f9",
   "metadata": {},
   "source": [
    "<h3>How many number of cuisines are there?</h3>"
   ]
  },
  {
   "cell_type": "code",
   "execution_count": 66,
   "id": "e887469d",
   "metadata": {},
   "outputs": [
    {
     "name": "stdout",
     "output_type": "stream",
     "text": [
      "['greek' 'southern_us' 'filipino' 'indian' 'jamaican' 'spanish' 'italian'\n",
      " 'mexican' 'chinese' 'british' 'thai' 'vietnamese' 'cajun_creole'\n",
      " 'brazilian' 'french' 'japanese' 'irish' 'korean' 'moroccan' 'russian'] \n",
      "\n",
      "Number of cuisines :  20\n"
     ]
    }
   ],
   "source": [
    "#How many number of cuisines are there?\n",
    "\n",
    "listOfCuisines = df_train.cuisine.unique()\n",
    "print(listOfCuisines, \"\\n\")\n",
    "print(\"Number of cuisines : \", len(listOfCuisines))"
   ]
  },
  {
   "cell_type": "markdown",
   "id": "55c37685",
   "metadata": {},
   "source": [
    "<h3>How many unique ingredients are there?</h3>"
   ]
  },
  {
   "cell_type": "code",
   "execution_count": 67,
   "id": "7cfe7bc0",
   "metadata": {},
   "outputs": [
    {
     "name": "stdout",
     "output_type": "stream",
     "text": [
      "Number of total ingredients :  428275\n",
      "Number of unique ingredients :  6714\n"
     ]
    }
   ],
   "source": [
    "#How many unique ingredients are there?\n",
    "\n",
    "# combines all the ingredient arrays into 1 large array, contains ingredient repeats\n",
    "listOfAllIngred = []\n",
    "listOfIngred = df_train.ingredients\n",
    "for i in range(0,len(listOfIngred)):\n",
    "    for j in range(0,len(listOfIngred[i])):\n",
    "        listOfAllIngred.append(listOfIngred[i][j])\n",
    "        \n",
    "print(\"Number of total ingredients : \",len(listOfAllIngred))\n",
    "\n",
    "listOfUniqueIngred = list(dict.fromkeys(listOfAllIngred))\n",
    "\n",
    "print(\"Number of unique ingredients : \", len(listOfUniqueIngred))"
   ]
  },
  {
   "cell_type": "markdown",
   "id": "910d3218",
   "metadata": {},
   "source": [
    "<h3>How many ingredients does each recipe have?</h3>"
   ]
  },
  {
   "cell_type": "code",
   "execution_count": 68,
   "id": "ecfd5a6a",
   "metadata": {
    "scrolled": true
   },
   "outputs": [
    {
     "name": "stdout",
     "output_type": "stream",
     "text": [
      "Maximum Number of Ingredients in a recipe:  65\n",
      "Minimum Number of Ingredients in a recipe:  1\n"
     ]
    }
   ],
   "source": [
    "print('Maximum Number of Ingredients in a recipe: ',df_train['ingredients'].str.len().max())\n",
    "print('Minimum Number of Ingredients in a recipe: ',df_train['ingredients'].str.len().min())"
   ]
  },
  {
   "cell_type": "code",
   "execution_count": 69,
   "id": "7f39225e",
   "metadata": {},
   "outputs": [
    {
     "data": {
      "text/html": [
       "<div>\n",
       "<style scoped>\n",
       "    .dataframe tbody tr th:only-of-type {\n",
       "        vertical-align: middle;\n",
       "    }\n",
       "\n",
       "    .dataframe tbody tr th {\n",
       "        vertical-align: top;\n",
       "    }\n",
       "\n",
       "    .dataframe thead th {\n",
       "        text-align: right;\n",
       "    }\n",
       "</style>\n",
       "<table border=\"1\" class=\"dataframe\">\n",
       "  <thead>\n",
       "    <tr style=\"text-align: right;\">\n",
       "      <th></th>\n",
       "      <th>id</th>\n",
       "      <th>cuisine</th>\n",
       "      <th>ingredients</th>\n",
       "      <th>ing_count</th>\n",
       "    </tr>\n",
       "  </thead>\n",
       "  <tbody>\n",
       "    <tr>\n",
       "      <th>15289</th>\n",
       "      <td>3885</td>\n",
       "      <td>italian</td>\n",
       "      <td>[fettucine, fresh marjoram, minced garlic, oli...</td>\n",
       "      <td>65</td>\n",
       "    </tr>\n",
       "  </tbody>\n",
       "</table>\n",
       "</div>"
      ],
      "text/plain": [
       "         id  cuisine                                        ingredients  \\\n",
       "15289  3885  italian  [fettucine, fresh marjoram, minced garlic, oli...   \n",
       "\n",
       "       ing_count  \n",
       "15289         65  "
      ]
     },
     "execution_count": 69,
     "metadata": {},
     "output_type": "execute_result"
    }
   ],
   "source": [
    "df_train['ing_count'] = df_train['ingredients'].str.len()\n",
    "\n",
    "df_train[df_train['ing_count'] >= 60]"
   ]
  },
  {
   "cell_type": "code",
   "execution_count": 70,
   "id": "857c9144",
   "metadata": {},
   "outputs": [
    {
     "data": {
      "text/html": [
       "<div>\n",
       "<style scoped>\n",
       "    .dataframe tbody tr th:only-of-type {\n",
       "        vertical-align: middle;\n",
       "    }\n",
       "\n",
       "    .dataframe tbody tr th {\n",
       "        vertical-align: top;\n",
       "    }\n",
       "\n",
       "    .dataframe thead th {\n",
       "        text-align: right;\n",
       "    }\n",
       "</style>\n",
       "<table border=\"1\" class=\"dataframe\">\n",
       "  <thead>\n",
       "    <tr style=\"text-align: right;\">\n",
       "      <th></th>\n",
       "      <th>id</th>\n",
       "      <th>cuisine</th>\n",
       "      <th>ingredients</th>\n",
       "      <th>ing_count</th>\n",
       "    </tr>\n",
       "  </thead>\n",
       "  <tbody>\n",
       "    <tr>\n",
       "      <th>940</th>\n",
       "      <td>4734</td>\n",
       "      <td>japanese</td>\n",
       "      <td>[sushi rice]</td>\n",
       "      <td>1</td>\n",
       "    </tr>\n",
       "    <tr>\n",
       "      <th>2088</th>\n",
       "      <td>7833</td>\n",
       "      <td>vietnamese</td>\n",
       "      <td>[dried rice noodles]</td>\n",
       "      <td>1</td>\n",
       "    </tr>\n",
       "    <tr>\n",
       "      <th>6787</th>\n",
       "      <td>36818</td>\n",
       "      <td>indian</td>\n",
       "      <td>[plain low-fat yogurt]</td>\n",
       "      <td>1</td>\n",
       "    </tr>\n",
       "    <tr>\n",
       "      <th>7011</th>\n",
       "      <td>19772</td>\n",
       "      <td>indian</td>\n",
       "      <td>[unsalted butter]</td>\n",
       "      <td>1</td>\n",
       "    </tr>\n",
       "    <tr>\n",
       "      <th>8181</th>\n",
       "      <td>16116</td>\n",
       "      <td>japanese</td>\n",
       "      <td>[udon]</td>\n",
       "      <td>1</td>\n",
       "    </tr>\n",
       "    <tr>\n",
       "      <th>8852</th>\n",
       "      <td>29738</td>\n",
       "      <td>thai</td>\n",
       "      <td>[sticky rice]</td>\n",
       "      <td>1</td>\n",
       "    </tr>\n",
       "    <tr>\n",
       "      <th>8990</th>\n",
       "      <td>41124</td>\n",
       "      <td>indian</td>\n",
       "      <td>[butter]</td>\n",
       "      <td>1</td>\n",
       "    </tr>\n",
       "    <tr>\n",
       "      <th>10506</th>\n",
       "      <td>32631</td>\n",
       "      <td>mexican</td>\n",
       "      <td>[corn tortillas]</td>\n",
       "      <td>1</td>\n",
       "    </tr>\n",
       "    <tr>\n",
       "      <th>13178</th>\n",
       "      <td>29570</td>\n",
       "      <td>thai</td>\n",
       "      <td>[grained]</td>\n",
       "      <td>1</td>\n",
       "    </tr>\n",
       "    <tr>\n",
       "      <th>17804</th>\n",
       "      <td>29849</td>\n",
       "      <td>southern_us</td>\n",
       "      <td>[lemonade concentrate]</td>\n",
       "      <td>1</td>\n",
       "    </tr>\n",
       "    <tr>\n",
       "      <th>18136</th>\n",
       "      <td>39186</td>\n",
       "      <td>thai</td>\n",
       "      <td>[jasmine rice]</td>\n",
       "      <td>1</td>\n",
       "    </tr>\n",
       "    <tr>\n",
       "      <th>18324</th>\n",
       "      <td>14335</td>\n",
       "      <td>indian</td>\n",
       "      <td>[unsalted butter]</td>\n",
       "      <td>1</td>\n",
       "    </tr>\n",
       "    <tr>\n",
       "      <th>21008</th>\n",
       "      <td>39221</td>\n",
       "      <td>italian</td>\n",
       "      <td>[cherry tomatoes]</td>\n",
       "      <td>1</td>\n",
       "    </tr>\n",
       "    <tr>\n",
       "      <th>22119</th>\n",
       "      <td>41135</td>\n",
       "      <td>french</td>\n",
       "      <td>[butter]</td>\n",
       "      <td>1</td>\n",
       "    </tr>\n",
       "    <tr>\n",
       "      <th>22387</th>\n",
       "      <td>36874</td>\n",
       "      <td>indian</td>\n",
       "      <td>[cumin seed]</td>\n",
       "      <td>1</td>\n",
       "    </tr>\n",
       "    <tr>\n",
       "      <th>23512</th>\n",
       "      <td>35028</td>\n",
       "      <td>french</td>\n",
       "      <td>[haricots verts]</td>\n",
       "      <td>1</td>\n",
       "    </tr>\n",
       "    <tr>\n",
       "      <th>26887</th>\n",
       "      <td>18593</td>\n",
       "      <td>mexican</td>\n",
       "      <td>[vegetable oil]</td>\n",
       "      <td>1</td>\n",
       "    </tr>\n",
       "    <tr>\n",
       "      <th>29294</th>\n",
       "      <td>7460</td>\n",
       "      <td>spanish</td>\n",
       "      <td>[spanish chorizo]</td>\n",
       "      <td>1</td>\n",
       "    </tr>\n",
       "    <tr>\n",
       "      <th>30636</th>\n",
       "      <td>32772</td>\n",
       "      <td>spanish</td>\n",
       "      <td>[sweetened condensed milk]</td>\n",
       "      <td>1</td>\n",
       "    </tr>\n",
       "    <tr>\n",
       "      <th>32105</th>\n",
       "      <td>12805</td>\n",
       "      <td>japanese</td>\n",
       "      <td>[water]</td>\n",
       "      <td>1</td>\n",
       "    </tr>\n",
       "    <tr>\n",
       "      <th>34531</th>\n",
       "      <td>10816</td>\n",
       "      <td>greek</td>\n",
       "      <td>[phyllo]</td>\n",
       "      <td>1</td>\n",
       "    </tr>\n",
       "    <tr>\n",
       "      <th>37220</th>\n",
       "      <td>27192</td>\n",
       "      <td>indian</td>\n",
       "      <td>[unsalted butter]</td>\n",
       "      <td>1</td>\n",
       "    </tr>\n",
       "  </tbody>\n",
       "</table>\n",
       "</div>"
      ],
      "text/plain": [
       "          id      cuisine                 ingredients  ing_count\n",
       "940     4734     japanese                [sushi rice]          1\n",
       "2088    7833   vietnamese        [dried rice noodles]          1\n",
       "6787   36818       indian      [plain low-fat yogurt]          1\n",
       "7011   19772       indian           [unsalted butter]          1\n",
       "8181   16116     japanese                      [udon]          1\n",
       "8852   29738         thai               [sticky rice]          1\n",
       "8990   41124       indian                    [butter]          1\n",
       "10506  32631      mexican            [corn tortillas]          1\n",
       "13178  29570         thai                   [grained]          1\n",
       "17804  29849  southern_us      [lemonade concentrate]          1\n",
       "18136  39186         thai              [jasmine rice]          1\n",
       "18324  14335       indian           [unsalted butter]          1\n",
       "21008  39221      italian           [cherry tomatoes]          1\n",
       "22119  41135       french                    [butter]          1\n",
       "22387  36874       indian                [cumin seed]          1\n",
       "23512  35028       french            [haricots verts]          1\n",
       "26887  18593      mexican             [vegetable oil]          1\n",
       "29294   7460      spanish           [spanish chorizo]          1\n",
       "30636  32772      spanish  [sweetened condensed milk]          1\n",
       "32105  12805     japanese                     [water]          1\n",
       "34531  10816        greek                    [phyllo]          1\n",
       "37220  27192       indian           [unsalted butter]          1"
      ]
     },
     "execution_count": 70,
     "metadata": {},
     "output_type": "execute_result"
    }
   ],
   "source": [
    "df_train[df_train['ing_count'] <= 1]"
   ]
  },
  {
   "cell_type": "markdown",
   "id": "d1a31f33",
   "metadata": {},
   "source": [
    "<h3>Which cuisine is the most popular?</h3>"
   ]
  },
  {
   "cell_type": "code",
   "execution_count": 71,
   "id": "399d9422",
   "metadata": {},
   "outputs": [
    {
     "data": {
      "text/plain": [
       "(array([ 0,  1,  2,  3,  4,  5,  6,  7,  8,  9, 10, 11, 12, 13, 14, 15, 16,\n",
       "        17, 18, 19]),\n",
       " [Text(0, 0, 'italian'),\n",
       "  Text(1, 0, 'mexican'),\n",
       "  Text(2, 0, 'southern_us'),\n",
       "  Text(3, 0, 'indian'),\n",
       "  Text(4, 0, 'chinese'),\n",
       "  Text(5, 0, 'french'),\n",
       "  Text(6, 0, 'cajun_creole'),\n",
       "  Text(7, 0, 'thai'),\n",
       "  Text(8, 0, 'japanese'),\n",
       "  Text(9, 0, 'greek'),\n",
       "  Text(10, 0, 'spanish'),\n",
       "  Text(11, 0, 'korean'),\n",
       "  Text(12, 0, 'vietnamese'),\n",
       "  Text(13, 0, 'moroccan'),\n",
       "  Text(14, 0, 'british'),\n",
       "  Text(15, 0, 'filipino'),\n",
       "  Text(16, 0, 'irish'),\n",
       "  Text(17, 0, 'jamaican'),\n",
       "  Text(18, 0, 'russian'),\n",
       "  Text(19, 0, 'brazilian')])"
      ]
     },
     "execution_count": 71,
     "metadata": {},
     "output_type": "execute_result"
    },
    {
     "data": {
      "image/png": "[encoded data removed]",
      "text/plain": [
       "<Figure size 504x648 with 1 Axes>"
      ]
     },
     "metadata": {
      "needs_background": "light"
     },
     "output_type": "display_data"
    }
   ],
   "source": [
    "import warnings\n",
    "warnings.filterwarnings('ignore')\n",
    "\n",
    "temp = train['cuisine'].value_counts()\n",
    "x = temp / temp.sum() * 100\n",
    "y = temp.index\n",
    "plt.figure(figsize = (7,9))\n",
    "\n",
    "plt.title('Cuisines With The Most Recipes')\n",
    "plt.xlabel('Cuisine', fontweight ='bold')\n",
    "plt.ylabel('Recipe Count', fontweight ='bold')\n",
    "sns.barplot(y, x, data = train, palette = \"gist_heat\")\n",
    "plt.xticks(rotation = -60)"
   ]
  },
  {
   "cell_type": "markdown",
   "id": "2ceb6653",
   "metadata": {},
   "source": [
    "<h1>Turning our data to numerical values to find accuracy</h1>"
   ]
  },
  {
   "cell_type": "markdown",
   "id": "20fe3840",
   "metadata": {},
   "source": [
    "__Create list of words in each recipe row__"
   ]
  },
  {
   "cell_type": "code",
   "execution_count": 72,
   "id": "a3d96cfd",
   "metadata": {},
   "outputs": [
    {
     "name": "stdout",
     "output_type": "stream",
     "text": [
      "39774 romaine lettuce black olives grape tomatoes garlic pepper purple onion seasoning garbanzo beans feta cheese crumbles\n"
     ]
    }
   ],
   "source": [
    "# split into training set and testing set\n",
    "\n",
    "# training set\n",
    "ingredients_train = df_train.ingredients\n",
    "words_train = [' '.join(x) for x in ingredients_train]\n",
    "print(len(words_train), words_train[0])\n",
    "\n",
    "# test set\n",
    "ingredients_test = df_test.ingredients\n",
    "words_test = [' '.join(x) for x in ingredients_test]"
   ]
  },
  {
   "cell_type": "markdown",
   "id": "e4374df7",
   "metadata": {},
   "source": [
    "__Create a word vector based on the training set__"
   ]
  },
  {
   "cell_type": "code",
   "execution_count": 73,
   "id": "af274533",
   "metadata": {},
   "outputs": [
    {
     "data": {
      "text/plain": [
       "CountVectorizer(max_features=1000)"
      ]
     },
     "execution_count": 73,
     "metadata": {},
     "output_type": "execute_result"
    }
   ],
   "source": [
    "vectorizer = CountVectorizer(max_features = 1000)\n",
    "bag_of_words = vectorizer.fit(words_train)\n",
    "bag_of_words"
   ]
  },
  {
   "cell_type": "markdown",
   "id": "172008a6",
   "metadata": {},
   "source": [
    "__Transform the word lists into vectors using the vectorizer trained on the training data__"
   ]
  },
  {
   "cell_type": "code",
   "execution_count": 74,
   "id": "18f99fca",
   "metadata": {},
   "outputs": [
    {
     "data": {
      "text/plain": [
       "array([[0, 0, 0, ..., 0, 0, 0],\n",
       "       [0, 0, 0, ..., 0, 0, 0],\n",
       "       [0, 0, 0, ..., 0, 0, 0],\n",
       "       ...,\n",
       "       [0, 0, 0, ..., 0, 0, 0],\n",
       "       [0, 0, 0, ..., 0, 0, 0],\n",
       "       [0, 0, 0, ..., 0, 0, 0]], dtype=int64)"
      ]
     },
     "execution_count": 74,
     "metadata": {},
     "output_type": "execute_result"
    }
   ],
   "source": [
    "ing_array_train = bag_of_words.transform(words_train).toarray()\n",
    "ing_array_test = bag_of_words.transform(words_test).toarray()\n",
    "ing_array_train"
   ]
  },
  {
   "cell_type": "markdown",
   "id": "7c013257",
   "metadata": {},
   "source": [
    "__Incorporate the word vectors into the train and test dataframes__"
   ]
  },
  {
   "cell_type": "code",
   "execution_count": 75,
   "id": "dc497064",
   "metadata": {},
   "outputs": [
    {
     "data": {
      "text/html": [
       "<div>\n",
       "<style scoped>\n",
       "    .dataframe tbody tr th:only-of-type {\n",
       "        vertical-align: middle;\n",
       "    }\n",
       "\n",
       "    .dataframe tbody tr th {\n",
       "        vertical-align: top;\n",
       "    }\n",
       "\n",
       "    .dataframe thead th {\n",
       "        text-align: right;\n",
       "    }\n",
       "</style>\n",
       "<table border=\"1\" class=\"dataframe\">\n",
       "  <thead>\n",
       "    <tr style=\"text-align: right;\">\n",
       "      <th></th>\n",
       "      <th>romaine</th>\n",
       "      <th>lettuce</th>\n",
       "      <th>black</th>\n",
       "      <th>olives</th>\n",
       "      <th>grape</th>\n",
       "      <th>tomatoes</th>\n",
       "      <th>garlic</th>\n",
       "      <th>pepper</th>\n",
       "      <th>purple</th>\n",
       "      <th>onion</th>\n",
       "      <th>...</th>\n",
       "      <th>liver</th>\n",
       "      <th>muffin</th>\n",
       "      <th>stick</th>\n",
       "      <th>chow</th>\n",
       "      <th>fusilli</th>\n",
       "      <th>fronds</th>\n",
       "      <th>flavor</th>\n",
       "      <th>fajita</th>\n",
       "      <th>chayotes</th>\n",
       "      <th>american</th>\n",
       "    </tr>\n",
       "  </thead>\n",
       "  <tbody>\n",
       "    <tr>\n",
       "      <th>0</th>\n",
       "      <td>0</td>\n",
       "      <td>0</td>\n",
       "      <td>0</td>\n",
       "      <td>0</td>\n",
       "      <td>0</td>\n",
       "      <td>0</td>\n",
       "      <td>0</td>\n",
       "      <td>0</td>\n",
       "      <td>0</td>\n",
       "      <td>0</td>\n",
       "      <td>...</td>\n",
       "      <td>0</td>\n",
       "      <td>0</td>\n",
       "      <td>0</td>\n",
       "      <td>0</td>\n",
       "      <td>0</td>\n",
       "      <td>0</td>\n",
       "      <td>0</td>\n",
       "      <td>0</td>\n",
       "      <td>0</td>\n",
       "      <td>0</td>\n",
       "    </tr>\n",
       "    <tr>\n",
       "      <th>1</th>\n",
       "      <td>0</td>\n",
       "      <td>0</td>\n",
       "      <td>0</td>\n",
       "      <td>0</td>\n",
       "      <td>0</td>\n",
       "      <td>0</td>\n",
       "      <td>0</td>\n",
       "      <td>0</td>\n",
       "      <td>0</td>\n",
       "      <td>0</td>\n",
       "      <td>...</td>\n",
       "      <td>0</td>\n",
       "      <td>0</td>\n",
       "      <td>1</td>\n",
       "      <td>0</td>\n",
       "      <td>0</td>\n",
       "      <td>0</td>\n",
       "      <td>0</td>\n",
       "      <td>0</td>\n",
       "      <td>0</td>\n",
       "      <td>0</td>\n",
       "    </tr>\n",
       "    <tr>\n",
       "      <th>2</th>\n",
       "      <td>0</td>\n",
       "      <td>0</td>\n",
       "      <td>0</td>\n",
       "      <td>0</td>\n",
       "      <td>0</td>\n",
       "      <td>0</td>\n",
       "      <td>0</td>\n",
       "      <td>0</td>\n",
       "      <td>0</td>\n",
       "      <td>0</td>\n",
       "      <td>...</td>\n",
       "      <td>0</td>\n",
       "      <td>0</td>\n",
       "      <td>1</td>\n",
       "      <td>0</td>\n",
       "      <td>0</td>\n",
       "      <td>0</td>\n",
       "      <td>0</td>\n",
       "      <td>0</td>\n",
       "      <td>0</td>\n",
       "      <td>0</td>\n",
       "    </tr>\n",
       "    <tr>\n",
       "      <th>3</th>\n",
       "      <td>0</td>\n",
       "      <td>0</td>\n",
       "      <td>0</td>\n",
       "      <td>0</td>\n",
       "      <td>0</td>\n",
       "      <td>0</td>\n",
       "      <td>0</td>\n",
       "      <td>0</td>\n",
       "      <td>0</td>\n",
       "      <td>0</td>\n",
       "      <td>...</td>\n",
       "      <td>0</td>\n",
       "      <td>0</td>\n",
       "      <td>0</td>\n",
       "      <td>0</td>\n",
       "      <td>0</td>\n",
       "      <td>0</td>\n",
       "      <td>0</td>\n",
       "      <td>0</td>\n",
       "      <td>0</td>\n",
       "      <td>0</td>\n",
       "    </tr>\n",
       "    <tr>\n",
       "      <th>4</th>\n",
       "      <td>0</td>\n",
       "      <td>0</td>\n",
       "      <td>0</td>\n",
       "      <td>0</td>\n",
       "      <td>0</td>\n",
       "      <td>0</td>\n",
       "      <td>0</td>\n",
       "      <td>0</td>\n",
       "      <td>0</td>\n",
       "      <td>0</td>\n",
       "      <td>...</td>\n",
       "      <td>0</td>\n",
       "      <td>0</td>\n",
       "      <td>0</td>\n",
       "      <td>0</td>\n",
       "      <td>1</td>\n",
       "      <td>0</td>\n",
       "      <td>0</td>\n",
       "      <td>0</td>\n",
       "      <td>0</td>\n",
       "      <td>0</td>\n",
       "    </tr>\n",
       "  </tbody>\n",
       "</table>\n",
       "<p>5 rows × 1000 columns</p>\n",
       "</div>"
      ],
      "text/plain": [
       "   romaine  lettuce  black  olives  grape  tomatoes  garlic  pepper  purple  \\\n",
       "0        0        0      0       0      0         0       0       0       0   \n",
       "1        0        0      0       0      0         0       0       0       0   \n",
       "2        0        0      0       0      0         0       0       0       0   \n",
       "3        0        0      0       0      0         0       0       0       0   \n",
       "4        0        0      0       0      0         0       0       0       0   \n",
       "\n",
       "   onion  ...  liver  muffin  stick  chow  fusilli  fronds  flavor  fajita  \\\n",
       "0      0  ...      0       0      0     0        0       0       0       0   \n",
       "1      0  ...      0       0      1     0        0       0       0       0   \n",
       "2      0  ...      0       0      1     0        0       0       0       0   \n",
       "3      0  ...      0       0      0     0        0       0       0       0   \n",
       "4      0  ...      0       0      0     0        1       0       0       0   \n",
       "\n",
       "   chayotes  american  \n",
       "0         0         0  \n",
       "1         0         0  \n",
       "2         0         0  \n",
       "3         0         0  \n",
       "4         0         0  \n",
       "\n",
       "[5 rows x 1000 columns]"
      ]
     },
     "execution_count": 75,
     "metadata": {},
     "output_type": "execute_result"
    }
   ],
   "source": [
    "df_ing_train = pd.DataFrame(ing_array_train, columns=vectorizer.vocabulary_)\n",
    "df_ing_test = pd.DataFrame(ing_array_test, columns=vectorizer.vocabulary_)\n",
    "df_ing_train.head()"
   ]
  },
  {
   "cell_type": "code",
   "execution_count": 76,
   "id": "8db18aca",
   "metadata": {},
   "outputs": [
    {
     "data": {
      "text/html": [
       "<div>\n",
       "<style scoped>\n",
       "    .dataframe tbody tr th:only-of-type {\n",
       "        vertical-align: middle;\n",
       "    }\n",
       "\n",
       "    .dataframe tbody tr th {\n",
       "        vertical-align: top;\n",
       "    }\n",
       "\n",
       "    .dataframe thead th {\n",
       "        text-align: right;\n",
       "    }\n",
       "</style>\n",
       "<table border=\"1\" class=\"dataframe\">\n",
       "  <thead>\n",
       "    <tr style=\"text-align: right;\">\n",
       "      <th></th>\n",
       "      <th>id</th>\n",
       "      <th>cuisine</th>\n",
       "      <th>ing_count</th>\n",
       "      <th>romaine</th>\n",
       "      <th>lettuce</th>\n",
       "      <th>black</th>\n",
       "      <th>olives</th>\n",
       "      <th>grape</th>\n",
       "      <th>tomatoes</th>\n",
       "      <th>garlic</th>\n",
       "      <th>...</th>\n",
       "      <th>liver</th>\n",
       "      <th>muffin</th>\n",
       "      <th>stick</th>\n",
       "      <th>chow</th>\n",
       "      <th>fusilli</th>\n",
       "      <th>fronds</th>\n",
       "      <th>flavor</th>\n",
       "      <th>fajita</th>\n",
       "      <th>chayotes</th>\n",
       "      <th>american</th>\n",
       "    </tr>\n",
       "  </thead>\n",
       "  <tbody>\n",
       "    <tr>\n",
       "      <th>0</th>\n",
       "      <td>10259</td>\n",
       "      <td>greek</td>\n",
       "      <td>9</td>\n",
       "      <td>0</td>\n",
       "      <td>0</td>\n",
       "      <td>0</td>\n",
       "      <td>0</td>\n",
       "      <td>0</td>\n",
       "      <td>0</td>\n",
       "      <td>0</td>\n",
       "      <td>...</td>\n",
       "      <td>0</td>\n",
       "      <td>0</td>\n",
       "      <td>0</td>\n",
       "      <td>0</td>\n",
       "      <td>0</td>\n",
       "      <td>0</td>\n",
       "      <td>0</td>\n",
       "      <td>0</td>\n",
       "      <td>0</td>\n",
       "      <td>0</td>\n",
       "    </tr>\n",
       "    <tr>\n",
       "      <th>1</th>\n",
       "      <td>25693</td>\n",
       "      <td>southern_us</td>\n",
       "      <td>11</td>\n",
       "      <td>0</td>\n",
       "      <td>0</td>\n",
       "      <td>0</td>\n",
       "      <td>0</td>\n",
       "      <td>0</td>\n",
       "      <td>0</td>\n",
       "      <td>0</td>\n",
       "      <td>...</td>\n",
       "      <td>0</td>\n",
       "      <td>0</td>\n",
       "      <td>1</td>\n",
       "      <td>0</td>\n",
       "      <td>0</td>\n",
       "      <td>0</td>\n",
       "      <td>0</td>\n",
       "      <td>0</td>\n",
       "      <td>0</td>\n",
       "      <td>0</td>\n",
       "    </tr>\n",
       "    <tr>\n",
       "      <th>2</th>\n",
       "      <td>20130</td>\n",
       "      <td>filipino</td>\n",
       "      <td>12</td>\n",
       "      <td>0</td>\n",
       "      <td>0</td>\n",
       "      <td>0</td>\n",
       "      <td>0</td>\n",
       "      <td>0</td>\n",
       "      <td>0</td>\n",
       "      <td>0</td>\n",
       "      <td>...</td>\n",
       "      <td>0</td>\n",
       "      <td>0</td>\n",
       "      <td>1</td>\n",
       "      <td>0</td>\n",
       "      <td>0</td>\n",
       "      <td>0</td>\n",
       "      <td>0</td>\n",
       "      <td>0</td>\n",
       "      <td>0</td>\n",
       "      <td>0</td>\n",
       "    </tr>\n",
       "    <tr>\n",
       "      <th>3</th>\n",
       "      <td>22213</td>\n",
       "      <td>indian</td>\n",
       "      <td>4</td>\n",
       "      <td>0</td>\n",
       "      <td>0</td>\n",
       "      <td>0</td>\n",
       "      <td>0</td>\n",
       "      <td>0</td>\n",
       "      <td>0</td>\n",
       "      <td>0</td>\n",
       "      <td>...</td>\n",
       "      <td>0</td>\n",
       "      <td>0</td>\n",
       "      <td>0</td>\n",
       "      <td>0</td>\n",
       "      <td>0</td>\n",
       "      <td>0</td>\n",
       "      <td>0</td>\n",
       "      <td>0</td>\n",
       "      <td>0</td>\n",
       "      <td>0</td>\n",
       "    </tr>\n",
       "    <tr>\n",
       "      <th>4</th>\n",
       "      <td>13162</td>\n",
       "      <td>indian</td>\n",
       "      <td>20</td>\n",
       "      <td>0</td>\n",
       "      <td>0</td>\n",
       "      <td>0</td>\n",
       "      <td>0</td>\n",
       "      <td>0</td>\n",
       "      <td>0</td>\n",
       "      <td>0</td>\n",
       "      <td>...</td>\n",
       "      <td>0</td>\n",
       "      <td>0</td>\n",
       "      <td>0</td>\n",
       "      <td>0</td>\n",
       "      <td>1</td>\n",
       "      <td>0</td>\n",
       "      <td>0</td>\n",
       "      <td>0</td>\n",
       "      <td>0</td>\n",
       "      <td>0</td>\n",
       "    </tr>\n",
       "  </tbody>\n",
       "</table>\n",
       "<p>5 rows × 1003 columns</p>\n",
       "</div>"
      ],
      "text/plain": [
       "      id      cuisine  ing_count  romaine  lettuce  black  olives  grape  \\\n",
       "0  10259        greek          9        0        0      0       0      0   \n",
       "1  25693  southern_us         11        0        0      0       0      0   \n",
       "2  20130     filipino         12        0        0      0       0      0   \n",
       "3  22213       indian          4        0        0      0       0      0   \n",
       "4  13162       indian         20        0        0      0       0      0   \n",
       "\n",
       "   tomatoes  garlic  ...  liver  muffin  stick  chow  fusilli  fronds  flavor  \\\n",
       "0         0       0  ...      0       0      0     0        0       0       0   \n",
       "1         0       0  ...      0       0      1     0        0       0       0   \n",
       "2         0       0  ...      0       0      1     0        0       0       0   \n",
       "3         0       0  ...      0       0      0     0        0       0       0   \n",
       "4         0       0  ...      0       0      0     0        1       0       0   \n",
       "\n",
       "   fajita  chayotes  american  \n",
       "0       0         0         0  \n",
       "1       0         0         0  \n",
       "2       0         0         0  \n",
       "3       0         0         0  \n",
       "4       0         0         0  \n",
       "\n",
       "[5 rows x 1003 columns]"
      ]
     },
     "execution_count": 76,
     "metadata": {},
     "output_type": "execute_result"
    }
   ],
   "source": [
    "df_train_new = df_train.merge(df_ing_train, \n",
    "                          left_index=True, \n",
    "                          right_index=True).drop('ingredients', axis=1)\n",
    "df_train_new.head()"
   ]
  },
  {
   "cell_type": "code",
   "execution_count": 77,
   "id": "17f1c51f",
   "metadata": {},
   "outputs": [
    {
     "data": {
      "text/html": [
       "<div>\n",
       "<style scoped>\n",
       "    .dataframe tbody tr th:only-of-type {\n",
       "        vertical-align: middle;\n",
       "    }\n",
       "\n",
       "    .dataframe tbody tr th {\n",
       "        vertical-align: top;\n",
       "    }\n",
       "\n",
       "    .dataframe thead th {\n",
       "        text-align: right;\n",
       "    }\n",
       "</style>\n",
       "<table border=\"1\" class=\"dataframe\">\n",
       "  <thead>\n",
       "    <tr style=\"text-align: right;\">\n",
       "      <th></th>\n",
       "      <th>id</th>\n",
       "      <th>romaine</th>\n",
       "      <th>lettuce</th>\n",
       "      <th>black</th>\n",
       "      <th>olives</th>\n",
       "      <th>grape</th>\n",
       "      <th>tomatoes</th>\n",
       "      <th>garlic</th>\n",
       "      <th>pepper</th>\n",
       "      <th>purple</th>\n",
       "      <th>...</th>\n",
       "      <th>liver</th>\n",
       "      <th>muffin</th>\n",
       "      <th>stick</th>\n",
       "      <th>chow</th>\n",
       "      <th>fusilli</th>\n",
       "      <th>fronds</th>\n",
       "      <th>flavor</th>\n",
       "      <th>fajita</th>\n",
       "      <th>chayotes</th>\n",
       "      <th>american</th>\n",
       "    </tr>\n",
       "  </thead>\n",
       "  <tbody>\n",
       "    <tr>\n",
       "      <th>0</th>\n",
       "      <td>18009</td>\n",
       "      <td>0</td>\n",
       "      <td>0</td>\n",
       "      <td>0</td>\n",
       "      <td>0</td>\n",
       "      <td>0</td>\n",
       "      <td>0</td>\n",
       "      <td>1</td>\n",
       "      <td>0</td>\n",
       "      <td>0</td>\n",
       "      <td>...</td>\n",
       "      <td>0</td>\n",
       "      <td>0</td>\n",
       "      <td>0</td>\n",
       "      <td>0</td>\n",
       "      <td>0</td>\n",
       "      <td>0</td>\n",
       "      <td>0</td>\n",
       "      <td>0</td>\n",
       "      <td>0</td>\n",
       "      <td>0</td>\n",
       "    </tr>\n",
       "    <tr>\n",
       "      <th>1</th>\n",
       "      <td>28583</td>\n",
       "      <td>0</td>\n",
       "      <td>0</td>\n",
       "      <td>0</td>\n",
       "      <td>0</td>\n",
       "      <td>0</td>\n",
       "      <td>0</td>\n",
       "      <td>0</td>\n",
       "      <td>0</td>\n",
       "      <td>0</td>\n",
       "      <td>...</td>\n",
       "      <td>0</td>\n",
       "      <td>0</td>\n",
       "      <td>0</td>\n",
       "      <td>0</td>\n",
       "      <td>0</td>\n",
       "      <td>1</td>\n",
       "      <td>0</td>\n",
       "      <td>0</td>\n",
       "      <td>0</td>\n",
       "      <td>0</td>\n",
       "    </tr>\n",
       "    <tr>\n",
       "      <th>2</th>\n",
       "      <td>41580</td>\n",
       "      <td>0</td>\n",
       "      <td>0</td>\n",
       "      <td>0</td>\n",
       "      <td>0</td>\n",
       "      <td>0</td>\n",
       "      <td>0</td>\n",
       "      <td>0</td>\n",
       "      <td>0</td>\n",
       "      <td>0</td>\n",
       "      <td>...</td>\n",
       "      <td>0</td>\n",
       "      <td>0</td>\n",
       "      <td>0</td>\n",
       "      <td>0</td>\n",
       "      <td>0</td>\n",
       "      <td>0</td>\n",
       "      <td>0</td>\n",
       "      <td>0</td>\n",
       "      <td>0</td>\n",
       "      <td>0</td>\n",
       "    </tr>\n",
       "    <tr>\n",
       "      <th>3</th>\n",
       "      <td>29752</td>\n",
       "      <td>0</td>\n",
       "      <td>0</td>\n",
       "      <td>0</td>\n",
       "      <td>0</td>\n",
       "      <td>0</td>\n",
       "      <td>0</td>\n",
       "      <td>1</td>\n",
       "      <td>0</td>\n",
       "      <td>0</td>\n",
       "      <td>...</td>\n",
       "      <td>0</td>\n",
       "      <td>0</td>\n",
       "      <td>1</td>\n",
       "      <td>0</td>\n",
       "      <td>0</td>\n",
       "      <td>0</td>\n",
       "      <td>0</td>\n",
       "      <td>0</td>\n",
       "      <td>0</td>\n",
       "      <td>0</td>\n",
       "    </tr>\n",
       "    <tr>\n",
       "      <th>4</th>\n",
       "      <td>35687</td>\n",
       "      <td>0</td>\n",
       "      <td>0</td>\n",
       "      <td>0</td>\n",
       "      <td>0</td>\n",
       "      <td>0</td>\n",
       "      <td>0</td>\n",
       "      <td>0</td>\n",
       "      <td>0</td>\n",
       "      <td>0</td>\n",
       "      <td>...</td>\n",
       "      <td>0</td>\n",
       "      <td>0</td>\n",
       "      <td>0</td>\n",
       "      <td>0</td>\n",
       "      <td>0</td>\n",
       "      <td>0</td>\n",
       "      <td>0</td>\n",
       "      <td>0</td>\n",
       "      <td>0</td>\n",
       "      <td>0</td>\n",
       "    </tr>\n",
       "  </tbody>\n",
       "</table>\n",
       "<p>5 rows × 1001 columns</p>\n",
       "</div>"
      ],
      "text/plain": [
       "      id  romaine  lettuce  black  olives  grape  tomatoes  garlic  pepper  \\\n",
       "0  18009        0        0      0       0      0         0       1       0   \n",
       "1  28583        0        0      0       0      0         0       0       0   \n",
       "2  41580        0        0      0       0      0         0       0       0   \n",
       "3  29752        0        0      0       0      0         0       1       0   \n",
       "4  35687        0        0      0       0      0         0       0       0   \n",
       "\n",
       "   purple  ...  liver  muffin  stick  chow  fusilli  fronds  flavor  fajita  \\\n",
       "0       0  ...      0       0      0     0        0       0       0       0   \n",
       "1       0  ...      0       0      0     0        0       1       0       0   \n",
       "2       0  ...      0       0      0     0        0       0       0       0   \n",
       "3       0  ...      0       0      1     0        0       0       0       0   \n",
       "4       0  ...      0       0      0     0        0       0       0       0   \n",
       "\n",
       "   chayotes  american  \n",
       "0         0         0  \n",
       "1         0         0  \n",
       "2         0         0  \n",
       "3         0         0  \n",
       "4         0         0  \n",
       "\n",
       "[5 rows x 1001 columns]"
      ]
     },
     "execution_count": 77,
     "metadata": {},
     "output_type": "execute_result"
    }
   ],
   "source": [
    "df_test_new = df_test.merge(df_ing_test, \n",
    "                          left_index=True, \n",
    "                          right_index=True).drop('ingredients', axis=1)\n",
    "df_test_new.head()"
   ]
  },
  {
   "cell_type": "markdown",
   "id": "601d3474",
   "metadata": {},
   "source": [
    "__Create sets__"
   ]
  },
  {
   "cell_type": "code",
   "execution_count": 78,
   "id": "403e5f7e",
   "metadata": {},
   "outputs": [
    {
     "data": {
      "text/plain": [
       "((39774, 1001), (39774,))"
      ]
     },
     "execution_count": 78,
     "metadata": {},
     "output_type": "execute_result"
    }
   ],
   "source": [
    "X = df_train_new.drop(['id', 'cuisine'], axis=1)\n",
    "y = df_train_new.cuisine\n",
    "X.shape, y.shape"
   ]
  },
  {
   "cell_type": "code",
   "execution_count": 79,
   "id": "27cc771b",
   "metadata": {},
   "outputs": [
    {
     "data": {
      "text/plain": [
       "((33807, 1001), (5967, 1001))"
      ]
     },
     "execution_count": 79,
     "metadata": {},
     "output_type": "execute_result"
    }
   ],
   "source": [
    "X_train, X_val, y_train, y_val = train_test_split(X, y, train_size=0.85)\n",
    "X_train.shape, X_val.shape"
   ]
  },
  {
   "cell_type": "markdown",
   "id": "367e6a5b",
   "metadata": {},
   "source": [
    "<h1>KNN & Random Forest Classifications</h1>"
   ]
  },
  {
   "cell_type": "markdown",
   "id": "242dbec5",
   "metadata": {},
   "source": [
    "__Create random forest, KNN__"
   ]
  },
  {
   "cell_type": "code",
   "execution_count": 80,
   "id": "25aa4845",
   "metadata": {},
   "outputs": [
    {
     "data": {
      "text/plain": [
       "KNeighborsClassifier()"
      ]
     },
     "execution_count": 80,
     "metadata": {},
     "output_type": "execute_result"
    }
   ],
   "source": [
    "# import dependencies\n",
    "from sklearn.metrics import accuracy_score\n",
    "from sklearn.neighbors import KNeighborsClassifier\n",
    "from sklearn.ensemble import RandomForestClassifier\n",
    "\n",
    "my_RandomForest = RandomForestClassifier(n_estimators=19, bootstrap=True, random_state=3)\n",
    "my_RandomForest.fit(X_train, y_train)\n",
    "\n",
    "my_knn = KNeighborsClassifier(n_neighbors=5)\n",
    "my_knn.fit(X_train, y_train)"
   ]
  },
  {
   "cell_type": "markdown",
   "id": "62870edf",
   "metadata": {},
   "source": [
    "<h1>Accuracies & Predictions</h1>"
   ]
  },
  {
   "cell_type": "markdown",
   "id": "bd5115a2",
   "metadata": {},
   "source": [
    "<h3>Accuracies</h3>"
   ]
  },
  {
   "cell_type": "code",
   "execution_count": 81,
   "id": "2520abec",
   "metadata": {},
   "outputs": [
    {
     "name": "stdout",
     "output_type": "stream",
     "text": [
      "random forrest accuracy 0.7286743757331993\n",
      "knn accuracy 0.6559410088821853\n"
     ]
    }
   ],
   "source": [
    "y_predict_knn = my_knn.predict(X_val)\n",
    "my_rf_predict = my_RandomForest.predict(X_val)\n",
    "\n",
    "knn_accuracy = accuracy_score(y_val, y_predict_knn)\n",
    "rf_accuracy = accuracy_score(y_val, my_rf_predict)\n",
    "\n",
    "print(\"random forrest accuracy\", rf_accuracy)\n",
    "print(\"knn accuracy\", knn_accuracy)"
   ]
  },
  {
   "cell_type": "markdown",
   "id": "ac2215b5",
   "metadata": {},
   "source": [
    "<h3>KNN Predictions</h3>"
   ]
  },
  {
   "cell_type": "code",
   "execution_count": 82,
   "id": "4499cdd1",
   "metadata": {},
   "outputs": [
    {
     "name": "stdout",
     "output_type": "stream",
     "text": [
      "        actual prediction\n",
      "31432  mexican    mexican\n",
      "29133  italian    italian\n",
      "28820  mexican    mexican\n",
      "14285   indian     indian\n",
      "33641  spanish    spanish\n",
      "...        ...        ...\n",
      "32650  chinese    italian\n",
      "35568  mexican    mexican\n",
      "23195    irish     korean\n",
      "12685  spanish    spanish\n",
      "25249  italian    italian\n",
      "\n",
      "[5967 rows x 2 columns]\n"
     ]
    }
   ],
   "source": [
    "# checking the results of knn prediction compared to the actal set\n",
    "results = pd.DataFrame()\n",
    "\n",
    "results['actual'] = y_val \n",
    "results['prediction'] = y_predict_knn \n",
    "\n",
    "print(results)"
   ]
  },
  {
   "cell_type": "markdown",
   "id": "96db7a2f",
   "metadata": {},
   "source": [
    "<h3>Random Forest Predictions</h3>"
   ]
  },
  {
   "cell_type": "code",
   "execution_count": 83,
   "id": "b5cd5e87",
   "metadata": {},
   "outputs": [
    {
     "name": "stdout",
     "output_type": "stream",
     "text": [
      "        actual prediction\n",
      "31432  mexican    mexican\n",
      "29133  italian    italian\n",
      "28820  mexican    mexican\n",
      "14285   indian     indian\n",
      "33641  spanish    spanish\n",
      "...        ...        ...\n",
      "32650  chinese    italian\n",
      "35568  mexican    mexican\n",
      "23195    irish   japanese\n",
      "12685  spanish    spanish\n",
      "25249  italian    italian\n",
      "\n",
      "[5967 rows x 2 columns]\n"
     ]
    }
   ],
   "source": [
    "# checking the results of random forest prediction compared to the actal set\n",
    "resultsRF = pd.DataFrame()\n",
    "\n",
    "resultsRF['actual'] = y_val \n",
    "resultsRF['prediction'] = my_rf_predict \n",
    "\n",
    "print(resultsRF)"
   ]
  },
  {
   "cell_type": "code",
   "execution_count": null,
   "id": "0dd295a2",
   "metadata": {},
   "outputs": [],
   "source": []
  },
  {
   "cell_type": "code",
   "execution_count": null,
   "id": "aaa4b9c9",
   "metadata": {},
   "outputs": [],
   "source": []
  }
 ],
 "metadata": {
  "kernelspec": {
   "display_name": "Python 3",
   "language": "python",
   "name": "python3"
  },
  "language_info": {
   "codemirror_mode": {
    "name": "ipython",
    "version": 3
   },
   "file_extension": ".py",
   "mimetype": "text/x-python",
   "name": "python",
   "nbconvert_exporter": "python",
   "pygments_lexer": "ipython3",
   "version": "3.8.8"
  }
 },
 "nbformat": 4,
 "nbformat_minor": 5
}
